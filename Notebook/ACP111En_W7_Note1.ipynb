{
  "nbformat": 4,
  "nbformat_minor": 0,
  "metadata": {
    "colab": {
      "provenance": []
    },
    "kernelspec": {
      "name": "python3",
      "display_name": "Python 3"
    },
    "language_info": {
      "name": "python"
    }
  },
  "cells": [
    {
      "cell_type": "code",
      "execution_count": null,
      "metadata": {
        "id": "y4CqEDsbYXFP"
      },
      "outputs": [],
      "source": [
        "!pip install Scrapy\n"
      ]
    },
    {
      "cell_type": "code",
      "source": [
        "import scrapy\n",
        "from bs4 import BeautifulSoup\n",
        "\n",
        "class ArticleSpider(scrapy.Spider):\n",
        "    name='cna_news'\n",
        "\n",
        "    def start_requests(self):\n",
        "        urls = ['https://focustaiwan.tw/']\n",
        "        return [scrapy.Request(url=url, callback=self.parse) for url in urls]\n",
        "\n",
        "    def parse(self, response):\n",
        "        bs = BeautifulSoup(response.body, 'html.parser')\n",
        "        titleList = bs.findAll('span', {'class':'h2t'})\n",
        "        for title in titleList:\n",
        "            print(title.get_text())"
      ],
      "metadata": {
        "id": "8MiGHi6TYbjo"
      },
      "execution_count": null,
      "outputs": []
    },
    {
      "cell_type": "code",
      "source": [
        "from twisted.internet import reactor\n",
        "from scrapy.crawler import CrawlerRunner\n",
        "crawler = CrawlerRunner()\n",
        "d = crawler.crawl(ArticleSpider)\n",
        "d.addBoth(lambda _: reactor.stop())\n",
        "reactor.run()"
      ],
      "metadata": {
        "id": "Xa1r4fE75og0"
      },
      "execution_count": null,
      "outputs": []
    }
  ]
}