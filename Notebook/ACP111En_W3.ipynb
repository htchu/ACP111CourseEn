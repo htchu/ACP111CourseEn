{
  "nbformat": 4,
  "nbformat_minor": 0,
  "metadata": {
    "colab": {
      "provenance": []
    },
    "kernelspec": {
      "name": "python3",
      "display_name": "Python 3"
    }
  },
  "cells": [
    {
      "cell_type": "code",
      "metadata": {
        "id": "8yxs6Md5NQdT"
      },
      "source": [
        "nums = [1, 0, -1, 0, -2, 2]"
      ],
      "execution_count": null,
      "outputs": []
    },
    {
      "cell_type": "code",
      "metadata": {
        "id": "R_p2tVhqNW_d",
        "colab": {
          "base_uri": "https://localhost:8080/",
          "height": 34
        },
        "outputId": "8cc74df8-d1f5-4cd6-b397-acdff2f1746a"
      },
      "source": [
        "nums.sort()\n",
        "print(nums)"
      ],
      "execution_count": null,
      "outputs": [
        {
          "output_type": "stream",
          "text": [
            "[-2, -1, 0, 0, 1, 2]\n"
          ],
          "name": "stdout"
        }
      ]
    },
    {
      "cell_type": "code",
      "metadata": {
        "id": "7GRyJcLrNiZv"
      },
      "source": [
        "import itertools as it\n",
        "sss=it.combinations(nums, 4)"
      ],
      "execution_count": null,
      "outputs": []
    },
    {
      "cell_type": "code",
      "metadata": {
        "id": "Ywa2uHbBPZ_l"
      },
      "source": [],
      "execution_count": null,
      "outputs": []
    },
    {
      "cell_type": "code",
      "metadata": {
        "id": "0CeA-6rvPHu2",
        "colab": {
          "base_uri": "https://localhost:8080/",
          "height": 289
        },
        "outputId": "cc2cdb3a-2923-485b-a2dc-33f42faddf00"
      },
      "source": [
        "for x in sss:\n",
        "  print(x)\n",
        "print(sss)"
      ],
      "execution_count": null,
      "outputs": [
        {
          "output_type": "stream",
          "text": [
            "(-2, -1, 0, 0)\n",
            "(-2, -1, 0, 1)\n",
            "(-2, -1, 0, 2)\n",
            "(-2, -1, 0, 1)\n",
            "(-2, -1, 0, 2)\n",
            "(-2, -1, 1, 2)\n",
            "(-2, 0, 0, 1)\n",
            "(-2, 0, 0, 2)\n",
            "(-2, 0, 1, 2)\n",
            "(-2, 0, 1, 2)\n",
            "(-1, 0, 0, 1)\n",
            "(-1, 0, 0, 2)\n",
            "(-1, 0, 1, 2)\n",
            "(-1, 0, 1, 2)\n",
            "(0, 0, 1, 2)\n",
            "<itertools.combinations object at 0x7fc30cb54778>\n"
          ],
          "name": "stdout"
        }
      ]
    },
    {
      "cell_type": "code",
      "metadata": {
        "id": "eVIUTzhVP0hp",
        "colab": {
          "base_uri": "https://localhost:8080/",
          "height": 68
        },
        "outputId": "70eb3c44-2d04-44d9-dbd8-431d5d83fa5b"
      },
      "source": [
        "m = dict()\n",
        "ans =[]\n",
        "import itertools as it\n",
        "sss=it.combinations(nums, 4)\n",
        "for x in sss:\n",
        "  if x not in m:\n",
        "    i = sum(x)\n",
        "    m[x]=i\n",
        "    if i == 0:\n",
        "      ans.append(list(x))\n",
        "      print(list(x))\n"
      ],
      "execution_count": null,
      "outputs": [
        {
          "output_type": "stream",
          "text": [
            "[-2, -1, 1, 2]\n",
            "[-2, 0, 0, 2]\n",
            "[-1, 0, 0, 1]\n"
          ],
          "name": "stdout"
        }
      ]
    }
  ]
}