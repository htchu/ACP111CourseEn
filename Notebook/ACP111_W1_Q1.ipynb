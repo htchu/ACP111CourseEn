{
  "nbformat": 4,
  "nbformat_minor": 0,
  "metadata": {
    "colab": {
      "provenance": []
    },
    "kernelspec": {
      "name": "python3",
      "display_name": "Python 3"
    },
    "language_info": {
      "name": "python"
    }
  },
  "cells": [
    {
      "cell_type": "markdown",
      "source": [
        "# Q1 : Check Python 3 reference cheat sheet for beginners, then write a program to print out the multiplication table\n",
        "<img src=\"https://previews.123rf.com/images/in8finity/in8finity1408/in8finity140800033/30726191-multiplication-table-on-white-background.jpg\" alt=\"img\" border=\"0\" width=\"500\">\n",
        "\n",
        "http://www.sixthresearcher.com/python-3-reference-cheat-sheet-for-beginners/\n"
      ],
      "metadata": {
        "id": "ZuVC-vSPHvpt"
      }
    },
    {
      "cell_type": "markdown",
      "source": [
        "<img src=\"https://i.ibb.co/mcxVysv/Python3-reference-cheat-sheet-back.png\" alt=\"Python3-reference-cheat-sheet-back\" border=\"0\">\n",
        "\n",
        "\n"
      ],
      "metadata": {
        "id": "AEHuW-tSItjh"
      }
    },
    {
      "cell_type": "markdown",
      "source": [],
      "metadata": {
        "id": "r1m387ZnI4CM"
      }
    },
    {
      "cell_type": "code",
      "execution_count": null,
      "metadata": {
        "id": "FvIwvQWfHiqi"
      },
      "outputs": [],
      "source": []
    }
  ]
}